{
 "cells": [
  {
   "cell_type": "markdown",
   "id": "1c49c795-8178-4716-836c-d39ac633bd50",
   "metadata": {},
   "source": [
    "### IT Security Monthly Cost Prediction"
   ]
  },
  {
   "cell_type": "markdown",
   "id": "b9bcfb4f-6e0b-4b5f-95f2-0821e115903a",
   "metadata": {},
   "source": [
    "Imagine you track the following metrics each month:\n",
    "\n",
    "- NumPhishingEmails: Number of phishing emails detected.\n",
    "- NumMalwareInfections: Number of malware infections found.\n",
    "- AverageResponseTime: Average incident response time (in hours).\n",
    "- SecurityCost: Total security-related costs (in thousands of dollars).\n",
    "\n",
    "You want to see if you can predict **SecurityCost** from these other features. Below is a minimal Python script using pandas and scikit-learn for linear regression."
   ]
  },
  {
   "cell_type": "code",
   "execution_count": 25,
   "id": "2b426715-391e-451f-8427-d21ebe0239cf",
   "metadata": {},
   "outputs": [
    {
     "data": {
      "text/html": [
       "<div>\n",
       "<style scoped>\n",
       "    .dataframe tbody tr th:only-of-type {\n",
       "        vertical-align: middle;\n",
       "    }\n",
       "\n",
       "    .dataframe tbody tr th {\n",
       "        vertical-align: top;\n",
       "    }\n",
       "\n",
       "    .dataframe thead th {\n",
       "        text-align: right;\n",
       "    }\n",
       "</style>\n",
       "<table border=\"1\" class=\"dataframe\">\n",
       "  <thead>\n",
       "    <tr style=\"text-align: right;\">\n",
       "      <th></th>\n",
       "      <th>Month</th>\n",
       "      <th>NumPhishingEmails</th>\n",
       "      <th>NumMalwareInfections</th>\n",
       "      <th>AverageResponseTime</th>\n",
       "      <th>SecurityCost</th>\n",
       "    </tr>\n",
       "  </thead>\n",
       "  <tbody>\n",
       "    <tr>\n",
       "      <th>0</th>\n",
       "      <td>1</td>\n",
       "      <td>50</td>\n",
       "      <td>5</td>\n",
       "      <td>2.0</td>\n",
       "      <td>5.0</td>\n",
       "    </tr>\n",
       "    <tr>\n",
       "      <th>1</th>\n",
       "      <td>2</td>\n",
       "      <td>60</td>\n",
       "      <td>7</td>\n",
       "      <td>2.5</td>\n",
       "      <td>6.0</td>\n",
       "    </tr>\n",
       "    <tr>\n",
       "      <th>2</th>\n",
       "      <td>3</td>\n",
       "      <td>55</td>\n",
       "      <td>6</td>\n",
       "      <td>2.2</td>\n",
       "      <td>5.5</td>\n",
       "    </tr>\n",
       "    <tr>\n",
       "      <th>3</th>\n",
       "      <td>4</td>\n",
       "      <td>65</td>\n",
       "      <td>8</td>\n",
       "      <td>2.8</td>\n",
       "      <td>7.0</td>\n",
       "    </tr>\n",
       "    <tr>\n",
       "      <th>4</th>\n",
       "      <td>5</td>\n",
       "      <td>80</td>\n",
       "      <td>10</td>\n",
       "      <td>3.0</td>\n",
       "      <td>8.0</td>\n",
       "    </tr>\n",
       "  </tbody>\n",
       "</table>\n",
       "</div>"
      ],
      "text/plain": [
       "   Month  NumPhishingEmails  NumMalwareInfections  AverageResponseTime  \\\n",
       "0      1                 50                     5                  2.0   \n",
       "1      2                 60                     7                  2.5   \n",
       "2      3                 55                     6                  2.2   \n",
       "3      4                 65                     8                  2.8   \n",
       "4      5                 80                    10                  3.0   \n",
       "\n",
       "   SecurityCost  \n",
       "0           5.0  \n",
       "1           6.0  \n",
       "2           5.5  \n",
       "3           7.0  \n",
       "4           8.0  "
      ]
     },
     "execution_count": 25,
     "metadata": {},
     "output_type": "execute_result"
    }
   ],
   "source": [
    "import pandas as pd\n",
    "from sklearn.linear_model import LinearRegression\n",
    "\n",
    "# Synthetic cybersecurity data\n",
    "data = {\n",
    "    'Month':                list(range(1, 13)),  # 1 to 12\n",
    "    'NumPhishingEmails':    [50, 60, 55, 65, 80, 90, 120, 100, 95, 85, 70, 60],\n",
    "    'NumMalwareInfections': [5,  7,  6,  8,  10, 12, 15,  14, 11,  9,  8,  6],\n",
    "    'AverageResponseTime':  [2.0,2.5,2.2,2.8,3.0,3.5,4.0, 3.8,3.6,3.2,2.7,2.4],\n",
    "    'SecurityCost':         [5,  6,  5.5,7,  8,  9,  11,  10.5,9.5,8.5,7,  6.5]\n",
    "}\n",
    "df = pd.DataFrame(data)\n",
    "df.head()\n"
   ]
  },
  {
   "cell_type": "code",
   "execution_count": 27,
   "id": "44226ad0-2ac3-4425-9556-4dadf6ddafe4",
   "metadata": {},
   "outputs": [],
   "source": [
    "# Features (X) are the explanatory variables\n",
    "X = df[['NumPhishingEmails', 'NumMalwareInfections', 'AverageResponseTime']]\n",
    "\n",
    "# Target (y) is the monthly SecurityCost\n",
    "y = df['SecurityCost']\n"
   ]
  },
  {
   "cell_type": "code",
   "execution_count": 29,
   "id": "57ff33db-647e-41bb-8ec0-9bc7e9a45850",
   "metadata": {},
   "outputs": [
    {
     "name": "stdout",
     "output_type": "stream",
     "text": [
      "Intercept (beta_0): -0.4980357201809076\n",
      "Coefficients (beta_1, beta_2, ...): [0.02919927 0.00794791 2.00108943]\n"
     ]
    }
   ],
   "source": [
    "# Create a LinearRegression model\n",
    "model = LinearRegression()\n",
    "\n",
    "# Fit the model on the entire dataset (for demo purposes)\n",
    "model.fit(X, y)\n",
    "\n",
    "# Display the learned coefficients\n",
    "print(\"Intercept (beta_0):\", model.intercept_)\n",
    "print(\"Coefficients (beta_1, beta_2, ...):\", model.coef_)\n"
   ]
  },
  {
   "cell_type": "code",
   "execution_count": 31,
   "id": "ac88218f-57f1-4a4b-a44b-ae2466494b20",
   "metadata": {},
   "outputs": [
    {
     "data": {
      "text/html": [
       "<div>\n",
       "<style scoped>\n",
       "    .dataframe tbody tr th:only-of-type {\n",
       "        vertical-align: middle;\n",
       "    }\n",
       "\n",
       "    .dataframe tbody tr th {\n",
       "        vertical-align: top;\n",
       "    }\n",
       "\n",
       "    .dataframe thead th {\n",
       "        text-align: right;\n",
       "    }\n",
       "</style>\n",
       "<table border=\"1\" class=\"dataframe\">\n",
       "  <thead>\n",
       "    <tr style=\"text-align: right;\">\n",
       "      <th></th>\n",
       "      <th>NumPhishingEmails</th>\n",
       "      <th>NumMalwareInfections</th>\n",
       "      <th>AverageResponseTime</th>\n",
       "      <th>SecurityCost</th>\n",
       "      <th>PredictedCost</th>\n",
       "    </tr>\n",
       "  </thead>\n",
       "  <tbody>\n",
       "    <tr>\n",
       "      <th>0</th>\n",
       "      <td>50</td>\n",
       "      <td>5</td>\n",
       "      <td>2.0</td>\n",
       "      <td>5.0</td>\n",
       "      <td>5.003846</td>\n",
       "    </tr>\n",
       "    <tr>\n",
       "      <th>1</th>\n",
       "      <td>60</td>\n",
       "      <td>7</td>\n",
       "      <td>2.5</td>\n",
       "      <td>6.0</td>\n",
       "      <td>6.312279</td>\n",
       "    </tr>\n",
       "    <tr>\n",
       "      <th>2</th>\n",
       "      <td>55</td>\n",
       "      <td>6</td>\n",
       "      <td>2.2</td>\n",
       "      <td>5.5</td>\n",
       "      <td>5.558008</td>\n",
       "    </tr>\n",
       "    <tr>\n",
       "      <th>3</th>\n",
       "      <td>65</td>\n",
       "      <td>8</td>\n",
       "      <td>2.8</td>\n",
       "      <td>7.0</td>\n",
       "      <td>7.066550</td>\n",
       "    </tr>\n",
       "    <tr>\n",
       "      <th>4</th>\n",
       "      <td>80</td>\n",
       "      <td>10</td>\n",
       "      <td>3.0</td>\n",
       "      <td>8.0</td>\n",
       "      <td>7.920653</td>\n",
       "    </tr>\n",
       "  </tbody>\n",
       "</table>\n",
       "</div>"
      ],
      "text/plain": [
       "   NumPhishingEmails  NumMalwareInfections  AverageResponseTime  SecurityCost  \\\n",
       "0                 50                     5                  2.0           5.0   \n",
       "1                 60                     7                  2.5           6.0   \n",
       "2                 55                     6                  2.2           5.5   \n",
       "3                 65                     8                  2.8           7.0   \n",
       "4                 80                    10                  3.0           8.0   \n",
       "\n",
       "   PredictedCost  \n",
       "0       5.003846  \n",
       "1       6.312279  \n",
       "2       5.558008  \n",
       "3       7.066550  \n",
       "4       7.920653  "
      ]
     },
     "execution_count": 31,
     "metadata": {},
     "output_type": "execute_result"
    }
   ],
   "source": [
    "# Show Prediction Results\n",
    "y_pred = model.predict(X)\n",
    "df['PredictedCost'] = y_pred\n",
    "df[['NumPhishingEmails','NumMalwareInfections','AverageResponseTime','SecurityCost','PredictedCost']].head()\n"
   ]
  },
  {
   "cell_type": "code",
   "execution_count": 33,
   "id": "92e4e1e4-4c8f-4bda-91da-f46fd5348a75",
   "metadata": {},
   "outputs": [
    {
     "name": "stdout",
     "output_type": "stream",
     "text": [
      "Mean Squared Error: 0.03961796270619445\n",
      "R^2 Score: 0.9886071160665162\n"
     ]
    }
   ],
   "source": [
    "# Print Regression Metrics\n",
    "from sklearn.metrics import mean_squared_error, r2_score\n",
    "\n",
    "mse = mean_squared_error(y, y_pred)\n",
    "r2 = r2_score(y, y_pred)\n",
    "print(\"Mean Squared Error:\", mse)\n",
    "print(\"R^2 Score:\", r2)\n"
   ]
  },
  {
   "cell_type": "code",
   "execution_count": null,
   "id": "1af3c88f-e22c-4aaf-bb21-8af78b212ff9",
   "metadata": {},
   "outputs": [],
   "source": []
  }
 ],
 "metadata": {
  "kernelspec": {
   "display_name": "Python 3 (ipykernel)",
   "language": "python",
   "name": "python3"
  },
  "language_info": {
   "codemirror_mode": {
    "name": "ipython",
    "version": 3
   },
   "file_extension": ".py",
   "mimetype": "text/x-python",
   "name": "python",
   "nbconvert_exporter": "python",
   "pygments_lexer": "ipython3",
   "version": "3.12.4"
  }
 },
 "nbformat": 4,
 "nbformat_minor": 5
}
