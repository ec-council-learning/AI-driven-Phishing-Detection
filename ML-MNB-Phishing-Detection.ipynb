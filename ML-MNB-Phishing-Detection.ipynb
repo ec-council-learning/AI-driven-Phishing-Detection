{
 "cells": [
  {
   "cell_type": "markdown",
   "id": "b5ccf485-d9d8-4a9b-9797-4e8e2416b5be",
   "metadata": {},
   "source": [
    "***Email Phishing Classification using Multinomial Naive Bayes***\n",
    "\n",
    "**This script reads a CSV file containing email text and labels ('Safe Email' or\n",
    "'Phishing Email'), preprocesses the data, trains a Multinomial Naive Bayes\n",
    "model, and evaluates its performance.**\n",
    "\n",
    "**The input CSV file should have two columns:**\n",
    "- 'Email Text': The email content (text).\n",
    "- 'Email Type': The email classification label ('Safe Email' or 'Phishing Email').\n",
    "\n",
    "**The script performs the following steps:**\n",
    "\n",
    "- Filters out rows with missing or empty email text.\n",
    "- Encodes the labels into numerical values.\n",
    "- Splits the data into training and testing sets.\n",
    "- Converts the email text into numerical features using TF-IDF vectorization.\n",
    "- Trains a Multinomial Naive Bayes model.\n",
    "- Evaluates the model's performance using accuracy and a classification report."
   ]
  },
  {
   "cell_type": "code",
   "execution_count": 5,
   "id": "905885ae-69fe-462b-88ce-739bcfc7726b",
   "metadata": {},
   "outputs": [],
   "source": [
    "# Import Libraries\n",
    "\n",
    "import pandas as pd  # Import the pandas library for data manipulation\n",
    "from sklearn.model_selection import train_test_split  # Import train_test_split to split data\n",
    "from sklearn.feature_extraction.text import TfidfVectorizer  # Import TfidfVectorizer for text vectorization\n",
    "from sklearn.naive_bayes import MultinomialNB  # Import MultinomialNB for Naive Bayes classification\n",
    "from sklearn.metrics import accuracy_score, classification_report  # Import metrics for model evaluation\n",
    "from sklearn.preprocessing import LabelEncoder  # Import LabelEncoder to encode labels\n",
    "import nltk  # Import the NLTK library for natural language processing\n",
    "import re  # Import the re library for regular expressions"
   ]
  },
  {
   "cell_type": "code",
   "execution_count": 6,
   "id": "81cea429-5676-4f74-a295-ff81533225d5",
   "metadata": {},
   "outputs": [
    {
     "name": "stderr",
     "output_type": "stream",
     "text": [
      "[nltk_data] Downloading package stopwords to /Users/Manas/nltk_data...\n",
      "[nltk_data]   Package stopwords is already up-to-date!\n",
      "[nltk_data] Downloading package punkt to /Users/Manas/nltk_data...\n",
      "[nltk_data]   Package punkt is already up-to-date!\n"
     ]
    },
    {
     "data": {
      "text/plain": [
       "True"
      ]
     },
     "execution_count": 6,
     "metadata": {},
     "output_type": "execute_result"
    }
   ],
   "source": [
    "# Download NLTK resources (if not already downloaded)\n",
    "# NLTK (Natural Language Toolkit) is a suite of libraries and programs for\n",
    "# symbolic and statistical natural language processing for English.\n",
    "# These lines download necessary resources:\n",
    "#   - 'stopwords': A collection of common words (like \"the\", \"a\", \"is\") that\n",
    "#                  are often removed during text preprocessing.\n",
    "#   - 'punkt': A pre-trained model for tokenization, which is the process of\n",
    "#              splitting text into individual words or sentences.\n",
    "\n",
    "nltk.download('stopwords')\n",
    "nltk.download('punkt')"
   ]
  },
  {
   "cell_type": "code",
   "execution_count": 7,
   "id": "26ab2616-7325-4ef0-9c6f-f7e3f7510075",
   "metadata": {},
   "outputs": [],
   "source": [
    "# Data Cleaning and Preprocessing\n",
    "\n",
    "def clean_text(text):\n",
    "    \"\"\"\n",
    "    This function performs several text cleaning operations to prepare the input text\n",
    "    for further analysis. These operations are crucial for reducing noise and \n",
    "    standardizing the text data.\n",
    "\n",
    "    Args:\n",
    "        text: The input text string to be cleaned.\n",
    "\n",
    "    Returns:\n",
    "        A cleaned version of the input text string.\n",
    "    \"\"\"\n",
    "    text = re.sub(r'http\\S+', '', text)   # Remove URLs from the text using regular expressions.\n",
    "    text = re.sub(r'[^\\w\\s]', '', text)  # Remove punctuation and special characters from the text.\n",
    "    text = text.lower()                   # Convert the text to lowercase to ensure consistency.\n",
    "    tokens = nltk.word_tokenize(text)    # Tokenize the text into individual words using NLTK's word_tokenize.\n",
    "    stop_words = set(nltk.corpus.stopwords.words('english')) # Get the set of English stop words from NLTK.\n",
    "    tokens = [word for word in tokens if word not in stop_words] # Remove stop words from the list of tokens.\n",
    "    return \" \".join(tokens)              # Join the cleaned tokens back into a single string, separated by spaces."
   ]
  },
  {
   "cell_type": "code",
   "execution_count": 8,
   "id": "f76b28a0-382a-455f-9e7a-748f5ba77711",
   "metadata": {},
   "outputs": [],
   "source": [
    "def preprocess_data(input_file):\n",
    "    \"\"\"\n",
    "    This function Reads, preprocesses, and prepares the data for classification. \n",
    "    Args: input_file (str): The path to the input CSV file. \n",
    "    Returns: pandas.DataFrame: The preprocessed DataFrame, or None if an error occurs.\n",
    "    \"\"\"\n",
    "    try:\n",
    "        # Read the CSV file, specifying that the first column has no header\n",
    "        df = pd.read_csv(input_file)\n",
    "\n",
    "    except FileNotFoundError:\n",
    "        # Handle the case where the input file is not found\n",
    "        print(f\"Error: Input file '{input_file}' not found.\")\n",
    "        return None\n",
    "\n",
    "    except Exception as e:\n",
    "        # Handle other potential errors during file reading\n",
    "        print(f\"An error occurred during file reading: {e}\")\n",
    "        return None\n",
    "\n",
    "    # Filter out rows where the 'Email Text' column is either null or empty\n",
    "    df = df[df['Email Text'].notna() & (df['Email Text'] != '')]\n",
    "\n",
    "    # Return the preprocessed DataFrame\n",
    "    return df"
   ]
  },
  {
   "cell_type": "code",
   "execution_count": 9,
   "id": "a08ca9de-17ab-4f32-82aa-dda4b61928f7",
   "metadata": {},
   "outputs": [],
   "source": [
    "# Import Training Data\n",
    "input_csv = \"Phishing_Email-dataset.csv\"  # Replace with your input file name"
   ]
  },
  {
   "cell_type": "code",
   "execution_count": 10,
   "id": "78370e62-2676-4384-91e0-025d6b000a60",
   "metadata": {},
   "outputs": [
    {
     "data": {
      "text/html": [
       "<div>\n",
       "<style scoped>\n",
       "    .dataframe tbody tr th:only-of-type {\n",
       "        vertical-align: middle;\n",
       "    }\n",
       "\n",
       "    .dataframe tbody tr th {\n",
       "        vertical-align: top;\n",
       "    }\n",
       "\n",
       "    .dataframe thead th {\n",
       "        text-align: right;\n",
       "    }\n",
       "</style>\n",
       "<table border=\"1\" class=\"dataframe\">\n",
       "  <thead>\n",
       "    <tr style=\"text-align: right;\">\n",
       "      <th></th>\n",
       "      <th>Email Text</th>\n",
       "      <th>Email Type</th>\n",
       "    </tr>\n",
       "  </thead>\n",
       "  <tbody>\n",
       "    <tr>\n",
       "      <th>0</th>\n",
       "      <td>available capacity pursuant to our discussion ...</td>\n",
       "      <td>Safe Email</td>\n",
       "    </tr>\n",
       "    <tr>\n",
       "      <th>1</th>\n",
       "      <td>base gas roll for april 01 due to some unsched...</td>\n",
       "      <td>Safe Email</td>\n",
       "    </tr>\n",
       "    <tr>\n",
       "      <th>2</th>\n",
       "      <td>sum : computer transcription a couple of month...</td>\n",
       "      <td>Safe Email</td>\n",
       "    </tr>\n",
       "    <tr>\n",
       "      <th>3</th>\n",
       "      <td>re : any changes should come from bob ' s grou...</td>\n",
       "      <td>Safe Email</td>\n",
       "    </tr>\n",
       "    <tr>\n",
       "      <th>4</th>\n",
       "      <td>historical ling announcing le lingue indoeurop...</td>\n",
       "      <td>Safe Email</td>\n",
       "    </tr>\n",
       "    <tr>\n",
       "      <th>...</th>\n",
       "      <td>...</td>\n",
       "      <td>...</td>\n",
       "    </tr>\n",
       "    <tr>\n",
       "      <th>1995</th>\n",
       "      <td>re : enroncredit . com vasant , tanya any inte...</td>\n",
       "      <td>Safe Email</td>\n",
       "    </tr>\n",
       "    <tr>\n",
       "      <th>1996</th>\n",
       "      <td>empty</td>\n",
       "      <td>Phishing Email</td>\n",
       "    </tr>\n",
       "    <tr>\n",
       "      <th>1997</th>\n",
       "      <td>re : tenaska iv 10 / 00 i don ' t see anything...</td>\n",
       "      <td>Safe Email</td>\n",
       "    </tr>\n",
       "    <tr>\n",
       "      <th>1998</th>\n",
       "      <td>audit points i want to make sure that we addre...</td>\n",
       "      <td>Safe Email</td>\n",
       "    </tr>\n",
       "    <tr>\n",
       "      <th>1999</th>\n",
       "      <td>comparative method ( shared sound changes ) al...</td>\n",
       "      <td>Safe Email</td>\n",
       "    </tr>\n",
       "  </tbody>\n",
       "</table>\n",
       "<p>2000 rows × 2 columns</p>\n",
       "</div>"
      ],
      "text/plain": [
       "                                             Email Text      Email Type\n",
       "0     available capacity pursuant to our discussion ...      Safe Email\n",
       "1     base gas roll for april 01 due to some unsched...      Safe Email\n",
       "2     sum : computer transcription a couple of month...      Safe Email\n",
       "3     re : any changes should come from bob ' s grou...      Safe Email\n",
       "4     historical ling announcing le lingue indoeurop...      Safe Email\n",
       "...                                                 ...             ...\n",
       "1995  re : enroncredit . com vasant , tanya any inte...      Safe Email\n",
       "1996                                              empty  Phishing Email\n",
       "1997  re : tenaska iv 10 / 00 i don ' t see anything...      Safe Email\n",
       "1998  audit points i want to make sure that we addre...      Safe Email\n",
       "1999  comparative method ( shared sound changes ) al...      Safe Email\n",
       "\n",
       "[2000 rows x 2 columns]"
      ]
     },
     "execution_count": 10,
     "metadata": {},
     "output_type": "execute_result"
    }
   ],
   "source": [
    "# Preprocess the data\n",
    "df = preprocess_data(input_csv)\n",
    "df"
   ]
  },
  {
   "cell_type": "code",
   "execution_count": 11,
   "id": "b0296da2-5ccd-4d41-935f-e3ef18adad65",
   "metadata": {},
   "outputs": [
    {
     "data": {
      "text/plain": [
       "968    summary typewriter canadian raising recently a...\n",
       "240    begin forwarded text rahshipwrightcom hackervu...\n",
       "819    houston gbn steering committee june 4 th remin...\n",
       "692    proulx wrote sent friday august 02 2002 959 pm...\n",
       "420    reply new sexy anime would believe fserh pron ...\n",
       "Name: Email Text, dtype: object"
      ]
     },
     "execution_count": 11,
     "metadata": {},
     "output_type": "execute_result"
    }
   ],
   "source": [
    "# Extract the email text and labels from the DataFrame\n",
    "# Assuming 'df' is your DataFrame containing the email data\n",
    "# and it has columns named 'Email Text' and 'Email Type'\n",
    "\n",
    "# Apply the clean_text function to the 'Email Text' column to preprocess the text.\n",
    "# This cleans and standardizes the email text for analysis.\n",
    "df['Email Text'] = df['Email Text'].apply(clean_text)\n",
    "\n",
    "# Assign the cleaned email text data to the feature variable 'X'.\n",
    "X = df['Email Text']\n",
    "# Assign the email type labels to the target variable 'y'.\n",
    "y = df['Email Type']\n",
    "\n",
    "# Convert categorical labels ('Safe Email', 'Phishing Email') to numerical values (0, 1).\n",
    "# This is necessary because machine learning models typically work with numerical data.\n",
    "label_encoder = LabelEncoder()\n",
    "# Use LabelEncoder to transform the categorical labels in 'y' into numerical labels.\n",
    "y_encoded = label_encoder.fit_transform(y)\n",
    "\n",
    "# Split the data into training and testing sets (80% training, 20% testing).\n",
    "# This divides the dataset into two parts: one for training the model and one for evaluating its performance.\n",
    "# 'test_size=0.2' specifies that 20% of the data will be used for testing.\n",
    "# 'random_state=42' ensures that the split is reproducible.\n",
    "X_train, X_test, y_train, y_test = train_test_split(X, y_encoded, test_size=0.2, random_state=42)\n",
    "\n",
    "# Display the first few rows of the training feature data (X_train).\n",
    "# This is useful for quickly inspecting the preprocessed data.\n",
    "X_train.head()"
   ]
  },
  {
   "cell_type": "code",
   "execution_count": null,
   "id": "d4daaba3-ce69-4dff-96cf-7b42ed13dd81",
   "metadata": {},
   "outputs": [],
   "source": []
  },
  {
   "cell_type": "code",
   "execution_count": 13,
   "id": "f03164ac-4aa5-4a7a-882b-f342ae5a0f96",
   "metadata": {},
   "outputs": [
    {
     "data": {
      "text/plain": [
       "array([1, 1, 1, ..., 0, 1, 0])"
      ]
     },
     "execution_count": 13,
     "metadata": {},
     "output_type": "execute_result"
    }
   ],
   "source": [
    "y_train"
   ]
  },
  {
   "cell_type": "code",
   "execution_count": 14,
   "id": "07d17cbf-ecbf-49d9-ad5a-44b33a9b6bba",
   "metadata": {},
   "outputs": [],
   "source": [
    "# Convert the email text into numerical features using TF-IDF vectorization.\n",
    "# TF-IDF (Term Frequency-Inverse Document Frequency) is a technique that weighs\n",
    "# words based on their frequency in a document and their inverse document frequency\n",
    "# across the entire corpus. This helps to identify important words in each email.\n",
    "# 'max_features' limits the number of features to the top 5000 most frequent words.\n",
    "# This helps to reduce dimensionality and improve efficiency.\n",
    "vectorizer = TfidfVectorizer(max_features=5000)\n",
    "\n",
    "# Fit and transform the training data.\n",
    "# 'fit_transform' learns the vocabulary and TF-IDF weights from the training data\n",
    "# and transforms the training data into a TF-IDF matrix.\n",
    "X_train_tfidf = vectorizer.fit_transform(X_train)\n",
    "\n",
    "# Transform the testing data.\n",
    "# 'transform' uses the vocabulary and TF-IDF weights learned from the training data\n",
    "# to transform the testing data into a TF-IDF matrix. It's important to use 'transform'\n",
    "# and not 'fit_transform' on the test data to avoid data leakage. Data leakage occurs\n",
    "# when information from the test set is used to influence the training process,\n",
    "# which can lead to overly optimistic performance estimates.\n",
    "X_test_tfidf = vectorizer.transform(X_test)"
   ]
  },
  {
   "cell_type": "code",
   "execution_count": 15,
   "id": "10fb3bbf-8a52-4de8-ad31-d0be0eba623a",
   "metadata": {},
   "outputs": [
    {
     "name": "stdout",
     "output_type": "stream",
     "text": [
      "Accuracy: 0.9400\n",
      "Classification Report:\n",
      "                 precision    recall  f1-score   support\n",
      "\n",
      "Phishing Email       0.96      0.87      0.91       143\n",
      "    Safe Email       0.93      0.98      0.95       257\n",
      "\n",
      "      accuracy                           0.94       400\n",
      "     macro avg       0.95      0.92      0.93       400\n",
      "  weighted avg       0.94      0.94      0.94       400\n",
      "\n"
     ]
    }
   ],
   "source": [
    "# Create and train a Multinomial Naive Bayes model.\n",
    "# Multinomial Naive Bayes is a probabilistic classifier suitable for text data.\n",
    "# It calculates the probability of an email belonging to a certain category (phishing or safe)\n",
    "# based on the frequency of words in the email.\n",
    "model = MultinomialNB()\n",
    "# 'fit' trains the Multinomial Naive Bayes model using the TF-IDF features of the training data\n",
    "# and the corresponding training labels.\n",
    "model.fit(X_train_tfidf, y_train)\n",
    "\n",
    "# Make predictions on the testing data.\n",
    "# 'predict' uses the trained Multinomial Naive Bayes model to predict the category (phishing or safe)\n",
    "# for each email in the test set, based on its TF-IDF features.\n",
    "y_pred = model.predict(X_test_tfidf)\n",
    "\n",
    "# Evaluate the model's performance.\n",
    "# 'accuracy_score' calculates the accuracy of the model's predictions by comparing the predicted labels (y_pred)\n",
    "# with the actual labels (y_test). Accuracy is the proportion of correctly classified emails.\n",
    "accuracy = accuracy_score(y_test, y_pred)\n",
    "# 'classification_report' generates a detailed report that includes precision, recall, F1-score, and support\n",
    "# for each category (phishing and safe).\n",
    "# 'target_names' provides the original categorical labels for better readability of the report.\n",
    "report = classification_report(y_test, y_pred, target_names=label_encoder.classes_)\n",
    "\n",
    "# Print the accuracy score and classification report.\n",
    "# This displays the model's performance metrics to the user.\n",
    "print(f\"Accuracy: {accuracy:.4f}\")\n",
    "print(\"Classification Report:\\n\", report)"
   ]
  },
  {
   "cell_type": "code",
   "execution_count": 21,
   "id": "2c5f4001-5095-418d-9478-954ab6d4389f",
   "metadata": {},
   "outputs": [
    {
     "name": "stdout",
     "output_type": "stream",
     "text": [
      "\n",
      "--- Phishing Email Examples ---\n",
      "\n",
      "Email Text: confirmation id 273952435 attempted contact refinance home current loan pre approved loan qualifies fixed rate 4 21 lower save hundreds month current mortgage payments visit confirm information within 24 hours\n",
      "Actual: Phishing Email\n",
      "Predicted: Phishing Email\n",
      "\n",
      "Email Text: fancy flutter atip thursday 26th march best racing tip day phone 0897555293 1 30pm nt believe try risk 50p phone call could gain entertaining additional source income fact information recorded telephone number race days consistently produced winning bets hit rate 60 7 fact 500 betting bank march 1997 would worth 7 719 followed simple betting process involving two telephone calls day would like free details plan leave name address end call happy send full 20 instructions calls charged per second 42p 25 seconds note please nt phone 1 30pm waste call 02\n",
      "Actual: Phishing Email\n",
      "Predicted: Safe Email\n",
      "\n",
      "Email Text: report make fortune e b goode ebay 1 rated work home business opportunity going provide closely guarded secrets making killing ebay truly want make money ebay capable open mind follow simple directions want teach make staggering income comfort home ebay 1 rated work home business opportunity must able devote least 8 hours week burning desire successful otherwise think twice please visit web site interested serious people reserve right discontinue offer time delay may never see offer click information strongly sending unsolicited emails wish receive special mailings wish receive mailings please click removed list please accept apologies sent email error honor removal requests market researc h 8721 santa monica boulevard 1105 los angeles ca 90069 4507\n",
      "Actual: Phishing Email\n",
      "Predicted: Phishing Email\n",
      "\n",
      "Email Text: ilug popular biz com extensions 14 95 register com biz info domains 14 95 new domain names finally available general public discount prices register one exciting new biz info domain names well original com net names 14 95 brand new domain extensions recently approved icann rights original com net domain names biggest benefit course biz info domain names currently available e much easier register attractive easy remember domain name price visit http www domainsforeveryone com today info register domain name today 14 95 http www domainsforeveryone com registration fees include full access easy use control panel manage domain name future sincerely domain administrator domains everyone remove email address promotional mailings company click irish linux users group ilug linux ie http www linux ie mailman listinfo ilug un subscription information list maintainer listmaster linux ie\n",
      "Actual: Phishing Email\n",
      "Predicted: Phishing Email\n",
      "\n",
      "Email Text: carefully tussioneex ambl 1 en xanaax 11 agrra clal 1 1 um adlpex 65 anything knowledge note receive sight returned filled money hardly xanaax alium cialiis iaagra ambieen popular medssno long questioning form pay shiip today winworldwide shippiing prom 0 tion running aliuum 70 ambiien 68 ciaaliis 96 iaagra 64 xanaax 75\n",
      "Actual: Phishing Email\n",
      "Predicted: Phishing Email\n",
      "\n",
      "--- Safe Email Examples ---\n",
      "\n",
      "Email Text: url date 20021009t2341260500its confirmed dora walking aisle sounds triangle tuba quartet1 cool words1\n",
      "Actual: Safe Email\n",
      "Predicted: Safe Email\n",
      "\n",
      "Email Text: sun 20020721 0911 brian fahrlander wrote server problems way limit bandwidthcaptain sense need mirror wasnt dsl would chris _______________________________________________ rpmlist mailing list\n",
      "Actual: Safe Email\n",
      "Predicted: Safe Email\n",
      "\n",
      "Email Text: completed reviews kathy dave could please forward number completed evaluations received date percentage number completed reviews may forward sally thanks help hgm\n",
      "Actual: Safe Email\n",
      "Predicted: Safe Email\n",
      "\n",
      "Email Text: fw march 2001 invoice tess deal blue dolphin 745589 three deal csgt 639612 639615 745589 problem none deals actuals looks though nom daren deals real nom could another dow company tess leaving office little bit today back afternoon julie tess ray enron enronxgate 04 24 2001 08 11 julie meyers hou ect ect cc subject fw march 2001 invoice julie please help per dow hydrocarbon accountant marilu trochta e mail attachment volume price discrepancies ena billed reflects system ena invoice 24636 sa invoiced dow hydrocarbons resources inc csgt b 368 brazos per deal number sa 639615 685 per day 3 1 01 3 31 01 hsc gdp 0 07 mmbtu vs 18 457 mmbtu 4 960 dow ena invoice sales bluedolphin 250 249 vs 5 459 mmbtu 4 960 18 218 mmbtu 4 960 dow reflects realize volumes ena billed brazos estimates noms problem need confirm march 2001 sale brazos volume price addition sale blue dolphin 250 249 volume price print confirmations also sitara show trader deal chance know scheduler thanks tess original message trochta mary ml enron mailto imceanotes 22 trochta 2 c 20 mary 20 28 ml 29 22 20 3 cmltrochta 40 dow 2 ecom 3 e 40 enron enron com sent monday april 23 2001 5 52 pm ray tess subject march 2001 invoice book 2 xls\n",
      "Actual: Safe Email\n",
      "Predicted: Safe Email\n",
      "\n",
      "Email Text: dave long writes also strikes long livestock genetically engineered dumber meatier better adapted living industrial conditions willing count artificial selection genetic engineering happening since preliterate times called domesticationbut willing count hope since isnt natural selection genetic engineering karl anderson kramonkeyorg\n",
      "Actual: Safe Email\n",
      "Predicted: Safe Email\n"
     ]
    }
   ],
   "source": [
    "# --- Code to display sample predictions ---\n",
    "\n",
    "# Create a DataFrame to hold the test data and predictions\n",
    "results_df = pd.DataFrame({'Email Text': X_test, 'Actual': y_test, 'Predicted': y_pred})\n",
    "\n",
    "# Decode the numerical labels back to their original categorical values\n",
    "results_df['Actual'] = label_encoder.inverse_transform(results_df['Actual'])\n",
    "results_df['Predicted'] = label_encoder.inverse_transform(results_df['Predicted'])\n",
    "\n",
    "# Separate phishing and non-phishing samples\n",
    "phishing_results = results_df[results_df['Actual'] == 'Phishing Email']\n",
    "non_phishing_results = results_df[results_df['Actual'] == 'Safe Email']\n",
    "\n",
    "# Display some phishing examples\n",
    "print(\"\\n--- Phishing Email Examples ---\")\n",
    "if len(phishing_results) > 0:\n",
    "    for i in range(min(5, len(phishing_results))):  # Display up to 5 examples\n",
    "        print(f\"\\nEmail Text: {phishing_results.iloc[i]['Email Text']}\")\n",
    "        print(f\"Actual: {phishing_results.iloc[i]['Actual']}\")\n",
    "        print(f\"Predicted: {phishing_results.iloc[i]['Predicted']}\")\n",
    "else:\n",
    "    print(\"No phishing emails found in the test set.\")\n",
    "\n",
    "# Display some non-phishing examples\n",
    "print(\"\\n--- Safe Email Examples ---\")\n",
    "if len(non_phishing_results) > 0:\n",
    "    for i in range(min(5, len(non_phishing_results))):  # Display up to 5 examples\n",
    "        print(f\"\\nEmail Text: {non_phishing_results.iloc[i]['Email Text']}\")\n",
    "        print(f\"Actual: {non_phishing_results.iloc[i]['Actual']}\")\n",
    "        print(f\"Predicted: {non_phishing_results.iloc[i]['Predicted']}\")\n",
    "else:\n",
    "    print(\"No safe emails found in the test set.\")"
   ]
  },
  {
   "cell_type": "code",
   "execution_count": null,
   "id": "a5d8092a-f980-40b2-9477-ff3ea7a15485",
   "metadata": {},
   "outputs": [],
   "source": []
  },
  {
   "cell_type": "code",
   "execution_count": null,
   "id": "c79688b6-e7d3-43ff-8049-a6761a1b43a0",
   "metadata": {},
   "outputs": [],
   "source": []
  }
 ],
 "metadata": {
  "kernelspec": {
   "display_name": "Python 3 (ipykernel)",
   "language": "python",
   "name": "python3"
  },
  "language_info": {
   "codemirror_mode": {
    "name": "ipython",
    "version": 3
   },
   "file_extension": ".py",
   "mimetype": "text/x-python",
   "name": "python",
   "nbconvert_exporter": "python",
   "pygments_lexer": "ipython3",
   "version": "3.12.4"
  }
 },
 "nbformat": 4,
 "nbformat_minor": 5
}
